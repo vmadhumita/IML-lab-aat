{
  "nbformat": 4,
  "nbformat_minor": 0,
  "metadata": {
    "colab": {
      "provenance": []
    },
    "kernelspec": {
      "name": "python3",
      "display_name": "Python 3"
    },
    "language_info": {
      "name": "python"
    }
  },
  "cells": [
    {
      "cell_type": "code",
      "execution_count": null,
      "metadata": {
        "id": "ggMclvdIuN3J"
      },
      "outputs": [],
      "source": [
        "from fractions import Fraction\n",
        "import sys\n",
        "\n",
        "def calculate_probability(W1, B1, W2, B2):\n",
        "    # P(Y = black | X = white) = B2 / (W2 + 1 + B2)\n",
        "    P_Y_black_given_X_white = Fraction(B2, (W2 + 1) + B2)\n",
        "    # P(Y = black | X = black) = (B2 + 1) / (W2 + B2 + 1)\n",
        "    P_Y_black_given_X_black = Fraction(B2 + 1, W2 + (B2 + 1))\n",
        "    # P(X = white) = W1 / (W1 + B1)\n",
        "    P_X_white = Fraction(W1, W1 + B1)\n",
        "    # P(X = black) = B1 / (W1 + B1)\n",
        "    P_X_black = Fraction(B1, W1 + B1)\n",
        "    # Total probability P(Y = black) = P(X = white) * P(Y = black | X = white) + P(X = black) * P(Y = black | X = black)\n",
        "    total_probability = (P_X_white * P_Y_black_given_X_white) + (P_X_black * P_Y_black_given_X_black)\n",
        "    return total_probability\n",
        "\n",
        "def main():\n",
        "    input_data = sys.stdin.read().strip()\n",
        "    W1, B1, W2, B2 = map(int, input_data.split())\n",
        "    result = calculate_probability(W1, B1, W2, B2)\n",
        "    print(result)\n",
        "\n",
        "if __name__ == \"__main__\":\n",
        "    main()\n"
      ]
    }
  ]
}