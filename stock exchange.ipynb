{
  "nbformat": 4,
  "nbformat_minor": 0,
  "metadata": {
    "colab": {
      "provenance": []
    },
    "kernelspec": {
      "name": "python3",
      "display_name": "Python 3"
    },
    "language_info": {
      "name": "python"
    }
  },
  "cells": [
    {
      "cell_type": "code",
      "execution_count": null,
      "metadata": {
        "id": "ggMclvdIuN3J"
      },
      "outputs": [],
      "source": [
        "import json\n",
        "from sklearn.feature_extraction.text import CountVectorizer, TfidfTransformer\n",
        "from sklearn.linear_model import RidgeClassifier\n",
        "from sklearn.pipeline import Pipeline\n",
        "\n",
        "pipeline = Pipeline([\n",
        "    ('vect', CountVectorizer(stop_words='english')),\n",
        "    ('tdidf', TfidfTransformer()),\n",
        "    ('clf', RidgeClassifier())\n",
        "])\n",
        "\n",
        "train_docs = []\n",
        "train_labels = []\n",
        "with open('training.json', encoding='utf-8') as f:\n",
        "    N = int(f.readline())\n",
        "    for line in f:\n",
        "        jo = json.loads(line)\n",
        "        train_docs.append(jo['question'] + ' ' + jo['excerpt'])\n",
        "        train_labels.append(jo['topic'])\n",
        "\n",
        "pipeline.fit(train_docs, train_labels)\n",
        "\n",
        "test_docs = []\n",
        "for line in range(int(input())):\n",
        "    jo = json.loads(input())\n",
        "    test_docs.append(jo['question'] + ' ' + jo['excerpt'])\n",
        "\n",
        "labels = pipeline.predict(test_docs)\n",
        "print('\\n'.join(labels))\n",
        ""
      ]
    }
  ]
}