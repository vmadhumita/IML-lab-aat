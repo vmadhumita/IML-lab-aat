{
  "nbformat": 4,
  "nbformat_minor": 0,
  "metadata": {
    "colab": {
      "provenance": []
    },
    "kernelspec": {
      "name": "python3",
      "display_name": "Python 3"
    },
    "language_info": {
      "name": "python"
    }
  },
  "cells": [
    {
      "cell_type": "code",
      "execution_count": null,
      "metadata": {
        "id": "ggMclvdIuN3J"
      },
      "outputs": [],
      "source": [
        "import sys\n",
        "import math\n",
        "\n",
        "def printTransactions(money, k, d, names, owned, prices):\n",
        "    transactions = []\n",
        "    available_money = money\n",
        "\n",
        "    for i in range(k):\n",
        "        name = names[i]\n",
        "        num_owned = owned[i]\n",
        "        stock_prices = prices[i]\n",
        "        current_price = stock_prices[-1]\n",
        "        prev_price = stock_prices[-2]\n",
        "\n",
        "        if num_owned > 0 and current_price > prev_price:\n",
        "            transactions.append(f\"{name} SELL {num_owned}\")\n",
        "\n",
        "        if current_price < prev_price and available_money >= current_price:\n",
        "            num_to_buy = int(available_money // current_price)\n",
        "            if num_to_buy > 0:\n",
        "                transactions.append(f\"{name} BUY {num_to_buy}\")\n",
        "                available_money -= num_to_buy * current_price\n",
        "\n",
        "    print(len(transactions))\n",
        "    for transaction in transactions:\n",
        "        print(transaction)\n",
        "\n",
        "def main():\n",
        "    input_data = sys.stdin.read().strip().split('\\n')\n",
        "\n",
        "    first_line = input_data[0].split()\n",
        "    m = float(first_line[0])\n",
        "    k = int(first_line[1])\n",
        "    d = int(first_line[2])\n",
        "\n",
        "    names = []\n",
        "    owned = []\n",
        "    prices = []\n",
        "\n",
        "    for i in range(1, k + 1):\n",
        "        line = input_data[i].split()\n",
        "        names.append(line[0])\n",
        "        owned.append(int(line[1]))\n",
        "        prices.append(list(map(float, line[2:])))\n",
        "\n",
        "    printTransactions(m, k, d, names, owned, prices)\n",
        "\n",
        "if __name__ == \"__main__\":\n",
        "    main()\n"
      ]
    }
  ]
}