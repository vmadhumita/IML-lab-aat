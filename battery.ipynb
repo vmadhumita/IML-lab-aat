{
  "nbformat": 4,
  "nbformat_minor": 0,
  "metadata": {
    "colab": {
      "provenance": []
    },
    "kernelspec": {
      "name": "python3",
      "display_name": "Python 3"
    },
    "language_info": {
      "name": "python"
    }
  },
  "cells": [
    {
      "cell_type": "code",
      "execution_count": null,
      "metadata": {
        "id": "ggMclvdIuN3J"
      },
      "outputs": [],
      "source": [
        "import sys\n",
        "\n",
        "def predict_battery_life(time_charged, training_data):\n",
        "    if time_charged >= 4.0:\n",
        "        return 8.0\n",
        "\n",
        "    total_charged = sum(x[0] for x in training_data if x[0] <= 4.0)\n",
        "    total_lasted = sum(x[1] for x in training_data if x[0] <= 4.0)\n",
        "    count = sum(1 for x in training_data if x[0] <= 4.0)\n",
        "\n",
        "    if count == 0:\n",
        "        return 0.0\n",
        "\n",
        "    return (total_lasted / total_charged) * time_charged\n",
        "\n",
        "training_data = []\n",
        "with open('trainingdata.txt') as f:\n",
        "    for line in f:\n",
        "        charged, lasted = map(float, line.split(','))\n",
        "        training_data.append((charged, lasted))\n",
        "\n",
        "if __name__ == '__main__':\n",
        "    time_charged = float(input().strip())\n",
        "    result = predict_battery_life(time_charged, training_data)\n",
        "    print(f\"{result:.2f}\")\n",
        "\n",
        ""
      ]
    }
  ]
}